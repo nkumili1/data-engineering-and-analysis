{
 "cells": [
  {
   "cell_type": "markdown",
   "id": "baf2cc30-a0db-4326-9609-b26fc047f204",
   "metadata": {},
   "source": [
    "## Data Engineering"
   ]
  },
  {
   "cell_type": "code",
   "execution_count": 1,
   "id": "0f35eec6-3535-4af7-bf33-92f42a1aa603",
   "metadata": {},
   "outputs": [],
   "source": [
    "import pandas as pd\n"
   ]
  },
  {
   "cell_type": "code",
   "execution_count": 2,
   "id": "d1268160-62f6-479c-ad66-bdc04e44fc1a",
   "metadata": {},
   "outputs": [],
   "source": [
    "# read data into pandas dataframes\n",
    "household_df = pd.read_csv(\"HOUSEHOLDS.csv\")\n",
    "customers_df = pd.read_csv(\"CUSTOMERS.csv\")\n",
    "cars_df = pd.read_csv(\"CARS.csv\")"
   ]
  },
  {
   "cell_type": "markdown",
   "id": "ab20c9c0-8402-4a9e-be73-03c58865bc86",
   "metadata": {},
   "source": [
    "#### REMOVING WHITESPACES IN DATA"
   ]
  },
  {
   "cell_type": "code",
   "execution_count": 3,
   "id": "2e75d65c-14bb-4edb-8929-e20dda43a8ac",
   "metadata": {},
   "outputs": [],
   "source": [
    "def trim_col_names(df):\n",
    "    \n",
    "    # remove whitespace at end for column names\n",
    "    for col_name in df.columns:\n",
    "        stripped_col_name = col_name.strip()\n",
    "        if col_name != stripped_col_name:\n",
    "            print(f\"Trimming {col_name} for whitespace\")\n",
    "            df = df.rename(str.strip, axis='columns')\n",
    "    return df\n"
   ]
  },
  {
   "cell_type": "code",
   "execution_count": 4,
   "id": "119a87bc-8b7a-43f4-8bec-d3762bbab4da",
   "metadata": {},
   "outputs": [
    {
     "name": "stdout",
     "output_type": "stream",
     "text": [
      "Trimming ZIP  for whitespace\n"
     ]
    }
   ],
   "source": [
    "household_df = trim_col_names(household_df)\n",
    "customers_df = trim_col_names(customers_df)\n",
    "cars_df = trim_col_names(cars_df)"
   ]
  },
  {
   "cell_type": "code",
   "execution_count": 5,
   "id": "65e05b82-2b79-40aa-8d34-092eb875793b",
   "metadata": {},
   "outputs": [],
   "source": [
    "def drop_null_rows_and_columns(df):\n",
    "    print(f\"Before Cleaning, DataFrame Shape: {df.shape}\")\n",
    "    df = df.dropna(axis = 1, how = \"all\")\n",
    "\n",
    "    df = df.dropna(axis = 0, how = \"all\")\n",
    "    print(f\"After Cleaning, DataFrame Shape: {df.shape}\")\n",
    "    return df"
   ]
  },
  {
   "cell_type": "code",
   "execution_count": 6,
   "id": "6ddca0a4-3df2-4ec4-8826-4e9fce9f7cee",
   "metadata": {},
   "outputs": [
    {
     "name": "stdout",
     "output_type": "stream",
     "text": [
      "Before Cleaning, DataFrame Shape: (500000, 10)\n",
      "After Cleaning, DataFrame Shape: (500000, 10)\n"
     ]
    }
   ],
   "source": [
    "households_df_clean = drop_null_rows_and_columns(household_df)"
   ]
  },
  {
   "cell_type": "code",
   "execution_count": 7,
   "id": "17063d7c-7dd6-41a8-a424-108496e137ee",
   "metadata": {},
   "outputs": [
    {
     "name": "stdout",
     "output_type": "stream",
     "text": [
      "Before Cleaning, DataFrame Shape: (499999, 20)\n",
      "After Cleaning, DataFrame Shape: (499999, 5)\n"
     ]
    }
   ],
   "source": [
    "customers_df_clean = drop_null_rows_and_columns(customers_df)"
   ]
  },
  {
   "cell_type": "code",
   "execution_count": 8,
   "id": "63e8f10b-51bf-408d-b0eb-19eecb304398",
   "metadata": {},
   "outputs": [
    {
     "name": "stdout",
     "output_type": "stream",
     "text": [
      "Before Cleaning, DataFrame Shape: (500000, 16)\n",
      "After Cleaning, DataFrame Shape: (500000, 16)\n"
     ]
    }
   ],
   "source": [
    "cars_df_clean = drop_null_rows_and_columns(cars_df)"
   ]
  },
  {
   "cell_type": "code",
   "execution_count": 9,
   "id": "bfadb0de-9321-479e-a849-09278badf35d",
   "metadata": {},
   "outputs": [],
   "source": [
    "def get_missing_or_malformed_values_columns(df):\n",
    "    for col, col_type in df.dtypes.items():\n",
    "        if col_type == \"object\":\n",
    "            if ((df[df[col] == \"#REF!\"].shape[0] > 0) or (df[df[col] == \"\"].shape[0] > 0)) :\n",
    "                print(col)"
   ]
  },
  {
   "cell_type": "code",
   "execution_count": 10,
   "id": "b06a4720-52eb-4b6e-bf32-b281290e4250",
   "metadata": {},
   "outputs": [],
   "source": [
    "get_missing_or_malformed_values_columns(households_df_clean)"
   ]
  },
  {
   "cell_type": "code",
   "execution_count": 11,
   "id": "4fa7e2db-decd-4367-8d5e-d29ed2c58f0c",
   "metadata": {},
   "outputs": [
    {
     "name": "stdout",
     "output_type": "stream",
     "text": [
      "Employment Type\n",
      "Income\n"
     ]
    }
   ],
   "source": [
    "get_missing_or_malformed_values_columns(customers_df_clean)"
   ]
  },
  {
   "cell_type": "code",
   "execution_count": 13,
   "id": "0d8dd8e3-579c-4df8-ac19-a3be01fdeed3",
   "metadata": {},
   "outputs": [
    {
     "ename": "ValueError",
     "evalue": "invalid literal for int() with base 10: '#REF!'",
     "output_type": "error",
     "traceback": [
      "\u001b[0;31m---------------------------------------------------------------------------\u001b[0m",
      "\u001b[0;31mValueError\u001b[0m                                Traceback (most recent call last)",
      "Cell \u001b[0;32mIn[13], line 3\u001b[0m\n\u001b[1;32m      1\u001b[0m \u001b[38;5;66;03m# impute malformed string in Income column with average Income\u001b[39;00m\n\u001b[1;32m      2\u001b[0m \u001b[38;5;66;03m# 50429.18711428178\u001b[39;00m\n\u001b[0;32m----> 3\u001b[0m \u001b[43mcustomers_df_clean\u001b[49m\u001b[43m[\u001b[49m\u001b[38;5;124;43m\"\u001b[39;49m\u001b[38;5;124;43mIncome\u001b[39;49m\u001b[38;5;124;43m\"\u001b[39;49m\u001b[43m]\u001b[49m\u001b[38;5;241;43m.\u001b[39;49m\u001b[43mastype\u001b[49m\u001b[43m(\u001b[49m\u001b[38;5;124;43m\"\u001b[39;49m\u001b[38;5;124;43mint\u001b[39;49m\u001b[38;5;124;43m\"\u001b[39;49m\u001b[43m)\u001b[49m\u001b[38;5;241m.\u001b[39mmean()\n",
      "File \u001b[0;32m/opt/conda/lib/python3.11/site-packages/pandas/core/generic.py:6324\u001b[0m, in \u001b[0;36mNDFrame.astype\u001b[0;34m(self, dtype, copy, errors)\u001b[0m\n\u001b[1;32m   6317\u001b[0m     results \u001b[38;5;241m=\u001b[39m [\n\u001b[1;32m   6318\u001b[0m         \u001b[38;5;28mself\u001b[39m\u001b[38;5;241m.\u001b[39miloc[:, i]\u001b[38;5;241m.\u001b[39mastype(dtype, copy\u001b[38;5;241m=\u001b[39mcopy)\n\u001b[1;32m   6319\u001b[0m         \u001b[38;5;28;01mfor\u001b[39;00m i \u001b[38;5;129;01min\u001b[39;00m \u001b[38;5;28mrange\u001b[39m(\u001b[38;5;28mlen\u001b[39m(\u001b[38;5;28mself\u001b[39m\u001b[38;5;241m.\u001b[39mcolumns))\n\u001b[1;32m   6320\u001b[0m     ]\n\u001b[1;32m   6322\u001b[0m \u001b[38;5;28;01melse\u001b[39;00m:\n\u001b[1;32m   6323\u001b[0m     \u001b[38;5;66;03m# else, only a single dtype is given\u001b[39;00m\n\u001b[0;32m-> 6324\u001b[0m     new_data \u001b[38;5;241m=\u001b[39m \u001b[38;5;28;43mself\u001b[39;49m\u001b[38;5;241;43m.\u001b[39;49m\u001b[43m_mgr\u001b[49m\u001b[38;5;241;43m.\u001b[39;49m\u001b[43mastype\u001b[49m\u001b[43m(\u001b[49m\u001b[43mdtype\u001b[49m\u001b[38;5;241;43m=\u001b[39;49m\u001b[43mdtype\u001b[49m\u001b[43m,\u001b[49m\u001b[43m \u001b[49m\u001b[43mcopy\u001b[49m\u001b[38;5;241;43m=\u001b[39;49m\u001b[43mcopy\u001b[49m\u001b[43m,\u001b[49m\u001b[43m \u001b[49m\u001b[43merrors\u001b[49m\u001b[38;5;241;43m=\u001b[39;49m\u001b[43merrors\u001b[49m\u001b[43m)\u001b[49m\n\u001b[1;32m   6325\u001b[0m     \u001b[38;5;28;01mreturn\u001b[39;00m \u001b[38;5;28mself\u001b[39m\u001b[38;5;241m.\u001b[39m_constructor(new_data)\u001b[38;5;241m.\u001b[39m__finalize__(\u001b[38;5;28mself\u001b[39m, method\u001b[38;5;241m=\u001b[39m\u001b[38;5;124m\"\u001b[39m\u001b[38;5;124mastype\u001b[39m\u001b[38;5;124m\"\u001b[39m)\n\u001b[1;32m   6327\u001b[0m \u001b[38;5;66;03m# GH 33113: handle empty frame or series\u001b[39;00m\n",
      "File \u001b[0;32m/opt/conda/lib/python3.11/site-packages/pandas/core/internals/managers.py:451\u001b[0m, in \u001b[0;36mBaseBlockManager.astype\u001b[0;34m(self, dtype, copy, errors)\u001b[0m\n\u001b[1;32m    448\u001b[0m \u001b[38;5;28;01melif\u001b[39;00m using_copy_on_write():\n\u001b[1;32m    449\u001b[0m     copy \u001b[38;5;241m=\u001b[39m \u001b[38;5;28;01mFalse\u001b[39;00m\n\u001b[0;32m--> 451\u001b[0m \u001b[38;5;28;01mreturn\u001b[39;00m \u001b[38;5;28;43mself\u001b[39;49m\u001b[38;5;241;43m.\u001b[39;49m\u001b[43mapply\u001b[49m\u001b[43m(\u001b[49m\n\u001b[1;32m    452\u001b[0m \u001b[43m    \u001b[49m\u001b[38;5;124;43m\"\u001b[39;49m\u001b[38;5;124;43mastype\u001b[39;49m\u001b[38;5;124;43m\"\u001b[39;49m\u001b[43m,\u001b[49m\n\u001b[1;32m    453\u001b[0m \u001b[43m    \u001b[49m\u001b[43mdtype\u001b[49m\u001b[38;5;241;43m=\u001b[39;49m\u001b[43mdtype\u001b[49m\u001b[43m,\u001b[49m\n\u001b[1;32m    454\u001b[0m \u001b[43m    \u001b[49m\u001b[43mcopy\u001b[49m\u001b[38;5;241;43m=\u001b[39;49m\u001b[43mcopy\u001b[49m\u001b[43m,\u001b[49m\n\u001b[1;32m    455\u001b[0m \u001b[43m    \u001b[49m\u001b[43merrors\u001b[49m\u001b[38;5;241;43m=\u001b[39;49m\u001b[43merrors\u001b[49m\u001b[43m,\u001b[49m\n\u001b[1;32m    456\u001b[0m \u001b[43m    \u001b[49m\u001b[43musing_cow\u001b[49m\u001b[38;5;241;43m=\u001b[39;49m\u001b[43musing_copy_on_write\u001b[49m\u001b[43m(\u001b[49m\u001b[43m)\u001b[49m\u001b[43m,\u001b[49m\n\u001b[1;32m    457\u001b[0m \u001b[43m\u001b[49m\u001b[43m)\u001b[49m\n",
      "File \u001b[0;32m/opt/conda/lib/python3.11/site-packages/pandas/core/internals/managers.py:352\u001b[0m, in \u001b[0;36mBaseBlockManager.apply\u001b[0;34m(self, f, align_keys, **kwargs)\u001b[0m\n\u001b[1;32m    350\u001b[0m         applied \u001b[38;5;241m=\u001b[39m b\u001b[38;5;241m.\u001b[39mapply(f, \u001b[38;5;241m*\u001b[39m\u001b[38;5;241m*\u001b[39mkwargs)\n\u001b[1;32m    351\u001b[0m     \u001b[38;5;28;01melse\u001b[39;00m:\n\u001b[0;32m--> 352\u001b[0m         applied \u001b[38;5;241m=\u001b[39m \u001b[38;5;28;43mgetattr\u001b[39;49m\u001b[43m(\u001b[49m\u001b[43mb\u001b[49m\u001b[43m,\u001b[49m\u001b[43m \u001b[49m\u001b[43mf\u001b[49m\u001b[43m)\u001b[49m\u001b[43m(\u001b[49m\u001b[38;5;241;43m*\u001b[39;49m\u001b[38;5;241;43m*\u001b[39;49m\u001b[43mkwargs\u001b[49m\u001b[43m)\u001b[49m\n\u001b[1;32m    353\u001b[0m     result_blocks \u001b[38;5;241m=\u001b[39m extend_blocks(applied, result_blocks)\n\u001b[1;32m    355\u001b[0m out \u001b[38;5;241m=\u001b[39m \u001b[38;5;28mtype\u001b[39m(\u001b[38;5;28mself\u001b[39m)\u001b[38;5;241m.\u001b[39mfrom_blocks(result_blocks, \u001b[38;5;28mself\u001b[39m\u001b[38;5;241m.\u001b[39maxes)\n",
      "File \u001b[0;32m/opt/conda/lib/python3.11/site-packages/pandas/core/internals/blocks.py:511\u001b[0m, in \u001b[0;36mBlock.astype\u001b[0;34m(self, dtype, copy, errors, using_cow)\u001b[0m\n\u001b[1;32m    491\u001b[0m \u001b[38;5;250m\u001b[39m\u001b[38;5;124;03m\"\"\"\u001b[39;00m\n\u001b[1;32m    492\u001b[0m \u001b[38;5;124;03mCoerce to the new dtype.\u001b[39;00m\n\u001b[1;32m    493\u001b[0m \n\u001b[0;32m   (...)\u001b[0m\n\u001b[1;32m    507\u001b[0m \u001b[38;5;124;03mBlock\u001b[39;00m\n\u001b[1;32m    508\u001b[0m \u001b[38;5;124;03m\"\"\"\u001b[39;00m\n\u001b[1;32m    509\u001b[0m values \u001b[38;5;241m=\u001b[39m \u001b[38;5;28mself\u001b[39m\u001b[38;5;241m.\u001b[39mvalues\n\u001b[0;32m--> 511\u001b[0m new_values \u001b[38;5;241m=\u001b[39m \u001b[43mastype_array_safe\u001b[49m\u001b[43m(\u001b[49m\u001b[43mvalues\u001b[49m\u001b[43m,\u001b[49m\u001b[43m \u001b[49m\u001b[43mdtype\u001b[49m\u001b[43m,\u001b[49m\u001b[43m \u001b[49m\u001b[43mcopy\u001b[49m\u001b[38;5;241;43m=\u001b[39;49m\u001b[43mcopy\u001b[49m\u001b[43m,\u001b[49m\u001b[43m \u001b[49m\u001b[43merrors\u001b[49m\u001b[38;5;241;43m=\u001b[39;49m\u001b[43merrors\u001b[49m\u001b[43m)\u001b[49m\n\u001b[1;32m    513\u001b[0m new_values \u001b[38;5;241m=\u001b[39m maybe_coerce_values(new_values)\n\u001b[1;32m    515\u001b[0m refs \u001b[38;5;241m=\u001b[39m \u001b[38;5;28;01mNone\u001b[39;00m\n",
      "File \u001b[0;32m/opt/conda/lib/python3.11/site-packages/pandas/core/dtypes/astype.py:242\u001b[0m, in \u001b[0;36mastype_array_safe\u001b[0;34m(values, dtype, copy, errors)\u001b[0m\n\u001b[1;32m    239\u001b[0m     dtype \u001b[38;5;241m=\u001b[39m dtype\u001b[38;5;241m.\u001b[39mnumpy_dtype\n\u001b[1;32m    241\u001b[0m \u001b[38;5;28;01mtry\u001b[39;00m:\n\u001b[0;32m--> 242\u001b[0m     new_values \u001b[38;5;241m=\u001b[39m \u001b[43mastype_array\u001b[49m\u001b[43m(\u001b[49m\u001b[43mvalues\u001b[49m\u001b[43m,\u001b[49m\u001b[43m \u001b[49m\u001b[43mdtype\u001b[49m\u001b[43m,\u001b[49m\u001b[43m \u001b[49m\u001b[43mcopy\u001b[49m\u001b[38;5;241;43m=\u001b[39;49m\u001b[43mcopy\u001b[49m\u001b[43m)\u001b[49m\n\u001b[1;32m    243\u001b[0m \u001b[38;5;28;01mexcept\u001b[39;00m (\u001b[38;5;167;01mValueError\u001b[39;00m, \u001b[38;5;167;01mTypeError\u001b[39;00m):\n\u001b[1;32m    244\u001b[0m     \u001b[38;5;66;03m# e.g. _astype_nansafe can fail on object-dtype of strings\u001b[39;00m\n\u001b[1;32m    245\u001b[0m     \u001b[38;5;66;03m#  trying to convert to float\u001b[39;00m\n\u001b[1;32m    246\u001b[0m     \u001b[38;5;28;01mif\u001b[39;00m errors \u001b[38;5;241m==\u001b[39m \u001b[38;5;124m\"\u001b[39m\u001b[38;5;124mignore\u001b[39m\u001b[38;5;124m\"\u001b[39m:\n",
      "File \u001b[0;32m/opt/conda/lib/python3.11/site-packages/pandas/core/dtypes/astype.py:187\u001b[0m, in \u001b[0;36mastype_array\u001b[0;34m(values, dtype, copy)\u001b[0m\n\u001b[1;32m    184\u001b[0m     values \u001b[38;5;241m=\u001b[39m values\u001b[38;5;241m.\u001b[39mastype(dtype, copy\u001b[38;5;241m=\u001b[39mcopy)\n\u001b[1;32m    186\u001b[0m \u001b[38;5;28;01melse\u001b[39;00m:\n\u001b[0;32m--> 187\u001b[0m     values \u001b[38;5;241m=\u001b[39m \u001b[43m_astype_nansafe\u001b[49m\u001b[43m(\u001b[49m\u001b[43mvalues\u001b[49m\u001b[43m,\u001b[49m\u001b[43m \u001b[49m\u001b[43mdtype\u001b[49m\u001b[43m,\u001b[49m\u001b[43m \u001b[49m\u001b[43mcopy\u001b[49m\u001b[38;5;241;43m=\u001b[39;49m\u001b[43mcopy\u001b[49m\u001b[43m)\u001b[49m\n\u001b[1;32m    189\u001b[0m \u001b[38;5;66;03m# in pandas we don't store numpy str dtypes, so convert to object\u001b[39;00m\n\u001b[1;32m    190\u001b[0m \u001b[38;5;28;01mif\u001b[39;00m \u001b[38;5;28misinstance\u001b[39m(dtype, np\u001b[38;5;241m.\u001b[39mdtype) \u001b[38;5;129;01mand\u001b[39;00m \u001b[38;5;28missubclass\u001b[39m(values\u001b[38;5;241m.\u001b[39mdtype\u001b[38;5;241m.\u001b[39mtype, \u001b[38;5;28mstr\u001b[39m):\n",
      "File \u001b[0;32m/opt/conda/lib/python3.11/site-packages/pandas/core/dtypes/astype.py:138\u001b[0m, in \u001b[0;36m_astype_nansafe\u001b[0;34m(arr, dtype, copy, skipna)\u001b[0m\n\u001b[1;32m    134\u001b[0m     \u001b[38;5;28;01mraise\u001b[39;00m \u001b[38;5;167;01mValueError\u001b[39;00m(msg)\n\u001b[1;32m    136\u001b[0m \u001b[38;5;28;01mif\u001b[39;00m copy \u001b[38;5;129;01mor\u001b[39;00m is_object_dtype(arr\u001b[38;5;241m.\u001b[39mdtype) \u001b[38;5;129;01mor\u001b[39;00m is_object_dtype(dtype):\n\u001b[1;32m    137\u001b[0m     \u001b[38;5;66;03m# Explicit copy, or required since NumPy can't view from / to object.\u001b[39;00m\n\u001b[0;32m--> 138\u001b[0m     \u001b[38;5;28;01mreturn\u001b[39;00m \u001b[43marr\u001b[49m\u001b[38;5;241;43m.\u001b[39;49m\u001b[43mastype\u001b[49m\u001b[43m(\u001b[49m\u001b[43mdtype\u001b[49m\u001b[43m,\u001b[49m\u001b[43m \u001b[49m\u001b[43mcopy\u001b[49m\u001b[38;5;241;43m=\u001b[39;49m\u001b[38;5;28;43;01mTrue\u001b[39;49;00m\u001b[43m)\u001b[49m\n\u001b[1;32m    140\u001b[0m \u001b[38;5;28;01mreturn\u001b[39;00m arr\u001b[38;5;241m.\u001b[39mastype(dtype, copy\u001b[38;5;241m=\u001b[39mcopy)\n",
      "\u001b[0;31mValueError\u001b[0m: invalid literal for int() with base 10: '#REF!'"
     ]
    }
   ],
   "source": [
    "# impute malformed string in Income column with average Income\n",
    "# 50429.18711428178\n",
    "customers_df_clean[\"Income\"].astype(\"int\").mean()\n",
    "\n"
   ]
  },
  {
   "cell_type": "code",
   "execution_count": 13,
   "id": "daff29c5-1c8e-42ff-9b64-3573b46c354a",
   "metadata": {},
   "outputs": [],
   "source": [
    "# cast Income column as Integer\n",
    "\n",
    "customers_df_clean[\"Income\"] = customers_df_clean[\"Income\"].astype(\"int\")"
   ]
  },
  {
   "cell_type": "code",
   "execution_count": 14,
   "id": "96a3f358-cd1d-4359-9ce8-25e82d0321e3",
   "metadata": {},
   "outputs": [],
   "source": [
    "# impute malformed string in employment type column with most frequent employment type \n",
    "\n",
    "customers_df_clean.loc[(customers_df_clean[\"Employment Type\"] == \"#REF!\"),\"Employment Type\"] = customers_df_clean[customers_df_clean[\"Employment Type\"] != \"#REF!\"] \\\n",
    ".groupby(\"Employment Type\") \\\n",
    ".size() \\\n",
    ".sort_values(ascending = False) \\\n",
    ".reset_index() \\\n",
    ".iloc[0][\"Employment Type\"]\n"
   ]
  },
  {
   "cell_type": "code",
   "execution_count": 15,
   "id": "108b7f3e-2893-4b41-aa07-bfef39bc728a",
   "metadata": {},
   "outputs": [],
   "source": [
    "get_missing_or_malformed_values_columns(customers_df_clean)"
   ]
  },
  {
   "cell_type": "code",
   "execution_count": 16,
   "id": "09b1081e-9f50-4869-a7b4-bf729a75d727",
   "metadata": {},
   "outputs": [],
   "source": [
    "get_missing_or_malformed_values_columns(cars_df_clean)"
   ]
  },
  {
   "cell_type": "code",
   "execution_count": 17,
   "id": "da26dfce-cd5c-4c87-b0d2-af969398c1dd",
   "metadata": {},
   "outputs": [],
   "source": [
    "cars_df_clean = cars_df_clean.rename({\"Car ID\":\"CAR_ID\"}, axis = \"columns\")"
   ]
  },
  {
   "cell_type": "code",
   "execution_count": 18,
   "id": "606b314d-1245-4bc7-8ca2-45a1360c4547",
   "metadata": {},
   "outputs": [],
   "source": [
    "# join housesholds and customer dataframe\n",
    "inter_df = pd.merge(households_df_clean, customers_df_clean , how = \"inner\", on =\"CUST_ID\")"
   ]
  },
  {
   "cell_type": "code",
   "execution_count": 19,
   "id": "c59ccfb0-4172-4c8e-946c-24dc08ead62d",
   "metadata": {},
   "outputs": [],
   "source": [
    "# join above dataframe with cars dataframe\n",
    "final_df = pd.merge(inter_df, cars_df_clean, on =[\"CAR_ID\",\"State\"], how = \"inner\")"
   ]
  },
  {
   "cell_type": "code",
   "execution_count": 20,
   "id": "c3c0f38c-fdec-4f61-8516-13ca1fe05950",
   "metadata": {},
   "outputs": [],
   "source": [
    "# write dataframe to a parquet file\n",
    "final_df.to_parquet(\"./combined_data.parquet\")"
   ]
  },
  {
   "cell_type": "code",
   "execution_count": 21,
   "id": "295a6e65-f891-4516-aee1-ee9a803c9558",
   "metadata": {},
   "outputs": [
    {
     "data": {
      "text/html": [
       "<div>\n",
       "<style scoped>\n",
       "    .dataframe tbody tr th:only-of-type {\n",
       "        vertical-align: middle;\n",
       "    }\n",
       "\n",
       "    .dataframe tbody tr th {\n",
       "        vertical-align: top;\n",
       "    }\n",
       "\n",
       "    .dataframe thead th {\n",
       "        text-align: right;\n",
       "    }\n",
       "</style>\n",
       "<table border=\"1\" class=\"dataframe\">\n",
       "  <thead>\n",
       "    <tr style=\"text-align: right;\">\n",
       "      <th></th>\n",
       "      <th>HH_ID</th>\n",
       "      <th>CUST_ID</th>\n",
       "      <th>CAR_ID</th>\n",
       "      <th>Active HH</th>\n",
       "      <th>HH Start Date</th>\n",
       "      <th>Phone Number</th>\n",
       "      <th>ZIP</th>\n",
       "      <th>State</th>\n",
       "      <th>Country</th>\n",
       "      <th>Referral Source</th>\n",
       "      <th>...</th>\n",
       "      <th>Vehicle Value</th>\n",
       "      <th>Annual Miles Driven</th>\n",
       "      <th>Business Use</th>\n",
       "      <th>Antique Vehicle</th>\n",
       "      <th>Lien</th>\n",
       "      <th>Lease</th>\n",
       "      <th>Driver Safety Discount</th>\n",
       "      <th>Vehicle Safety Discount</th>\n",
       "      <th>Claim Payout</th>\n",
       "      <th>6 Month Premium Amount</th>\n",
       "    </tr>\n",
       "  </thead>\n",
       "  <tbody>\n",
       "    <tr>\n",
       "      <th>0</th>\n",
       "      <td>219790301</td>\n",
       "      <td>801198110</td>\n",
       "      <td>844435</td>\n",
       "      <td>1</td>\n",
       "      <td>11/18/22</td>\n",
       "      <td>(709) 379-9036</td>\n",
       "      <td>70442</td>\n",
       "      <td>OK</td>\n",
       "      <td>USA</td>\n",
       "      <td>Other</td>\n",
       "      <td>...</td>\n",
       "      <td>50000.00</td>\n",
       "      <td>56</td>\n",
       "      <td>0</td>\n",
       "      <td>1</td>\n",
       "      <td>1</td>\n",
       "      <td>0</td>\n",
       "      <td>0</td>\n",
       "      <td>1</td>\n",
       "      <td>0</td>\n",
       "      <td>42.890000</td>\n",
       "    </tr>\n",
       "    <tr>\n",
       "      <th>1</th>\n",
       "      <td>219790301</td>\n",
       "      <td>281855167</td>\n",
       "      <td>410619</td>\n",
       "      <td>1</td>\n",
       "      <td>11/18/22</td>\n",
       "      <td>(740) 565-4060</td>\n",
       "      <td>70442</td>\n",
       "      <td>OK</td>\n",
       "      <td>USA</td>\n",
       "      <td>Other</td>\n",
       "      <td>...</td>\n",
       "      <td>8151.75</td>\n",
       "      <td>12136</td>\n",
       "      <td>0</td>\n",
       "      <td>0</td>\n",
       "      <td>0</td>\n",
       "      <td>1</td>\n",
       "      <td>0</td>\n",
       "      <td>1</td>\n",
       "      <td>0</td>\n",
       "      <td>58.887695</td>\n",
       "    </tr>\n",
       "    <tr>\n",
       "      <th>2</th>\n",
       "      <td>219790301</td>\n",
       "      <td>688373183</td>\n",
       "      <td>192812</td>\n",
       "      <td>1</td>\n",
       "      <td>11/18/22</td>\n",
       "      <td>(117) 457-9582</td>\n",
       "      <td>70442</td>\n",
       "      <td>OK</td>\n",
       "      <td>USA</td>\n",
       "      <td>Other</td>\n",
       "      <td>...</td>\n",
       "      <td>1651.20</td>\n",
       "      <td>14674</td>\n",
       "      <td>0</td>\n",
       "      <td>0</td>\n",
       "      <td>1</td>\n",
       "      <td>0</td>\n",
       "      <td>0</td>\n",
       "      <td>1</td>\n",
       "      <td>0</td>\n",
       "      <td>322.307381</td>\n",
       "    </tr>\n",
       "    <tr>\n",
       "      <th>3</th>\n",
       "      <td>219790301</td>\n",
       "      <td>752746800</td>\n",
       "      <td>752033</td>\n",
       "      <td>1</td>\n",
       "      <td>11/18/22</td>\n",
       "      <td>(536) 797-5920</td>\n",
       "      <td>70442</td>\n",
       "      <td>OK</td>\n",
       "      <td>USA</td>\n",
       "      <td>Other</td>\n",
       "      <td>...</td>\n",
       "      <td>500.00</td>\n",
       "      <td>15762</td>\n",
       "      <td>0</td>\n",
       "      <td>0</td>\n",
       "      <td>1</td>\n",
       "      <td>0</td>\n",
       "      <td>0</td>\n",
       "      <td>0</td>\n",
       "      <td>0</td>\n",
       "      <td>232.670242</td>\n",
       "    </tr>\n",
       "    <tr>\n",
       "      <th>4</th>\n",
       "      <td>464806390</td>\n",
       "      <td>114187354</td>\n",
       "      <td>23783</td>\n",
       "      <td>1</td>\n",
       "      <td>10/9/20</td>\n",
       "      <td>(152) 373-1773</td>\n",
       "      <td>42706</td>\n",
       "      <td>NY</td>\n",
       "      <td>USA</td>\n",
       "      <td>Event</td>\n",
       "      <td>...</td>\n",
       "      <td>18873.90</td>\n",
       "      <td>10154</td>\n",
       "      <td>0</td>\n",
       "      <td>0</td>\n",
       "      <td>1</td>\n",
       "      <td>0</td>\n",
       "      <td>0</td>\n",
       "      <td>1</td>\n",
       "      <td>0</td>\n",
       "      <td>167.432014</td>\n",
       "    </tr>\n",
       "  </tbody>\n",
       "</table>\n",
       "<p>5 rows × 28 columns</p>\n",
       "</div>"
      ],
      "text/plain": [
       "       HH_ID    CUST_ID  CAR_ID  Active HH HH Start Date    Phone Number  \\\n",
       "0  219790301  801198110  844435          1      11/18/22  (709) 379-9036   \n",
       "1  219790301  281855167  410619          1      11/18/22  (740) 565-4060   \n",
       "2  219790301  688373183  192812          1      11/18/22  (117) 457-9582   \n",
       "3  219790301  752746800  752033          1      11/18/22  (536) 797-5920   \n",
       "4  464806390  114187354   23783          1       10/9/20  (152) 373-1773   \n",
       "\n",
       "     ZIP State Country Referral Source  ... Vehicle Value Annual Miles Driven  \\\n",
       "0  70442    OK     USA           Other  ...      50000.00                  56   \n",
       "1  70442    OK     USA           Other  ...       8151.75               12136   \n",
       "2  70442    OK     USA           Other  ...       1651.20               14674   \n",
       "3  70442    OK     USA           Other  ...        500.00               15762   \n",
       "4  42706    NY     USA           Event  ...      18873.90               10154   \n",
       "\n",
       "  Business Use  Antique Vehicle Lien  Lease Driver Safety Discount  \\\n",
       "0            0                1    1      0                      0   \n",
       "1            0                0    0      1                      0   \n",
       "2            0                0    1      0                      0   \n",
       "3            0                0    1      0                      0   \n",
       "4            0                0    1      0                      0   \n",
       "\n",
       "  Vehicle Safety Discount  Claim Payout  6 Month Premium Amount  \n",
       "0                       1             0               42.890000  \n",
       "1                       1             0               58.887695  \n",
       "2                       1             0              322.307381  \n",
       "3                       0             0              232.670242  \n",
       "4                       1             0              167.432014  \n",
       "\n",
       "[5 rows x 28 columns]"
      ]
     },
     "execution_count": 21,
     "metadata": {},
     "output_type": "execute_result"
    }
   ],
   "source": [
    "final_df.head()"
   ]
  },
  {
   "cell_type": "code",
   "execution_count": 22,
   "id": "1591ea95-929f-4330-a13b-a5031b4bc38d",
   "metadata": {},
   "outputs": [
    {
     "data": {
      "text/plain": [
       "HH_ID: int64\n",
       "CUST_ID: int64\n",
       "CAR_ID: int64\n",
       "Active HH: int64\n",
       "HH Start Date: string\n",
       "Phone Number: string\n",
       "ZIP: int64\n",
       "State: string\n",
       "Country: string\n",
       "Referral Source: string\n",
       "Date of Birth: string\n",
       "Marital Status: string\n",
       "Employment Type: string\n",
       "Income: int64\n",
       "Status: string\n",
       "Model Year: int64\n",
       "Make: string\n",
       "Body Style: string\n",
       "Vehicle Value: double\n",
       "Annual Miles Driven: int64\n",
       "Business Use: int64\n",
       "Antique Vehicle: int64\n",
       "Lien: int64\n",
       "Lease: int64\n",
       "Driver Safety Discount: int64\n",
       "Vehicle Safety Discount: int64\n",
       "Claim Payout: int64\n",
       "6 Month Premium Amount: double\n",
       "-- schema metadata --\n",
       "pandas: '{\"index_columns\": [{\"kind\": \"range\", \"name\": null, \"start\": 0, \"' + 3635"
      ]
     },
     "execution_count": 22,
     "metadata": {},
     "output_type": "execute_result"
    }
   ],
   "source": [
    "import pyarrow.parquet as pq\n",
    "schema = pq.read_schema('combined_data.parquet')\n",
    "schema\n"
   ]
  },
  {
   "cell_type": "code",
   "execution_count": null,
   "id": "3f36c7fc-a95a-42be-a979-37697a142288",
   "metadata": {},
   "outputs": [],
   "source": []
  },
  {
   "cell_type": "code",
   "execution_count": null,
   "id": "4ee9ed37-0160-48b7-b837-4e44e5901396",
   "metadata": {},
   "outputs": [],
   "source": []
  }
 ],
 "metadata": {
  "kernelspec": {
   "display_name": "base",
   "language": "python",
   "name": "python3"
  },
  "language_info": {
   "codemirror_mode": {
    "name": "ipython",
    "version": 3
   },
   "file_extension": ".py",
   "mimetype": "text/x-python",
   "name": "python",
   "nbconvert_exporter": "python",
   "pygments_lexer": "ipython3",
   "version": "3.11.6"
  }
 },
 "nbformat": 4,
 "nbformat_minor": 5
}
