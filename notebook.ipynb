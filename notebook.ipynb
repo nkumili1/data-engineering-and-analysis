{
 "cells": [
  {
   "cell_type": "code",
   "execution_count": 2,
   "metadata": {},
   "outputs": [],
   "source": [
    "from pyspark.sql import SparkSession\n",
    "from pyspark.sql.types import StructType, StructField, StringType, IntegerType, FloatType\n",
    "from pyspark.sql.functions import col, avg, when\n",
    "import pprint\n"
   ]
  },
  {
   "cell_type": "code",
   "execution_count": 3,
   "metadata": {},
   "outputs": [],
   "source": [
    "spark = SparkSession.builder.appName(\"Data Engineering\").getOrCreate()"
   ]
  },
  {
   "cell_type": "code",
   "execution_count": 4,
   "metadata": {},
   "outputs": [],
   "source": [
    "house_schema = StructType([\n",
    "    StructField(\"HH_ID\", IntegerType()),\n",
    "    StructField(\"CUST_ID\", IntegerType()),\n",
    "    StructField(\"CAR_ID\", IntegerType()),\n",
    "    StructField(\"Active HH\", IntegerType()),\n",
    "    StructField(\"HH Start Date\", StringType()),\n",
    "    StructField(\"Phone Number\", StringType()),\n",
    "    StructField(\"ZIP \", IntegerType()),\n",
    "    StructField(\"State\",StringType()),\n",
    "    StructField(\"Country\", StringType()),\n",
    "    StructField(\"Referral Source\", StringType()),\n",
    "])"
   ]
  },
  {
   "cell_type": "code",
   "execution_count": 5,
   "metadata": {},
   "outputs": [],
   "source": [
    "car_schema = StructType([StructField(\"Car ID\", IntegerType()),\n",
    "                         StructField(\"Status\", StringType()),\n",
    "                         StructField(\"State\", StringType()),\n",
    "                         StructField(\"Model Year\", IntegerType()),\n",
    "                         StructField(\"Make\", StringType()),\n",
    "                         StructField(\"Body Style\", StringType()),\n",
    "                         StructField(\"Vehicle Value\", IntegerType()),\n",
    "                         StructField(\"Annual Miles Driven\", IntegerType()),\n",
    "                         StructField(\"Business Use\", IntegerType()),\n",
    "                         StructField(\"Antique Vehicle\", IntegerType()),\n",
    "                         StructField(\"Lien\", IntegerType()),\n",
    "                         StructField(\"Lease\", IntegerType()),\n",
    "                         StructField(\"Driver Safety Discount\", IntegerType()),\n",
    "                         StructField(\"Vehicle Safety Discount\",IntegerType()),\n",
    "                         StructField(\"Claim Payout\", IntegerType()),\n",
    "                         StructField(\"6 Month Premium Amount\", FloatType())\n",
    "                         ])"
   ]
  },
  {
   "cell_type": "code",
   "execution_count": 6,
   "metadata": {},
   "outputs": [],
   "source": [
    "car_df = spark.read.option(\"header\",True).schema(car_schema).csv(\"./CARS.csv\")"
   ]
  },
  {
   "cell_type": "code",
   "execution_count": 7,
   "metadata": {},
   "outputs": [],
   "source": [
    "household_df = spark.read.option(\"header\",True).schema(house_schema).csv(\"./HOUSEHOLDS.csv\")"
   ]
  },
  {
   "cell_type": "code",
   "execution_count": 8,
   "metadata": {},
   "outputs": [],
   "source": [
    "customer_df = spark.read.option(\"header\",True).csv(\"./CUSTOMERS.csv\")"
   ]
  },
  {
   "cell_type": "code",
   "execution_count": 9,
   "metadata": {},
   "outputs": [
    {
     "data": {
      "text/plain": [
       "499999"
      ]
     },
     "execution_count": 9,
     "metadata": {},
     "output_type": "execute_result"
    }
   ],
   "source": [
    "customer_df.count()"
   ]
  },
  {
   "cell_type": "markdown",
   "metadata": {},
   "source": [
    "## Clean customer data frame (remove columns that have only null values)"
   ]
  },
  {
   "cell_type": "code",
   "execution_count": 10,
   "metadata": {},
   "outputs": [],
   "source": [
    "customer_df1 = customer_df.select([col for col in customer_df.columns if customer_df.filter(customer_df[col].isNotNull()).count() > 0])\n"
   ]
  },
  {
   "cell_type": "markdown",
   "metadata": {},
   "source": [
    "## Clean up columns with malformed/missing values in the df"
   ]
  },
  {
   "cell_type": "code",
   "execution_count": 11,
   "metadata": {},
   "outputs": [],
   "source": [
    "customer_df2 = customer_df1.withColumn(\"Income\", when(col(\"Income\") == \"#REF!\", \\\n",
    "                        customer_df1.where((col(\"Income\") != \"#REF!\") | (col(\"Income\") != \"\")).agg(avg(\"Income\")).first()[0]) \\\n",
    "                        .otherwise(col(\"Income\")))\n",
    "\n",
    "\n",
    "customer_df2 = customer_df1.withColumn(\"Employment Type\", when(col(\"Employment Type\") == \"#REF!\", \n",
    "                            customer_df1.where((col(\"Employment Type\") != \"#REF!\") | (col(\"Employment Type\") != \"\")) \\\n",
    "                            .groupBy(\"Employment Type\").count().orderBy('count', ascending=False).first()[0]) \\\n",
    "                            .otherwise(col(\"Employment Type\")))\n",
    "customer_df2 = customer_df2.withColumnRenamed(\"Employment Type\", \"Employment_Type\").drop(\"Employment Type\")"
   ]
  },
  {
   "cell_type": "code",
   "execution_count": 12,
   "metadata": {},
   "outputs": [
    {
     "data": {
      "text/plain": [
       "['HH_ID',\n",
       " 'CUST_ID',\n",
       " 'CAR_ID',\n",
       " 'Active HH',\n",
       " 'HH Start Date',\n",
       " 'Phone Number',\n",
       " 'ZIP ',\n",
       " 'State',\n",
       " 'Country',\n",
       " 'Referral Source']"
      ]
     },
     "execution_count": 12,
     "metadata": {},
     "output_type": "execute_result"
    }
   ],
   "source": [
    "household_df.columns"
   ]
  },
  {
   "cell_type": "code",
   "execution_count": 13,
   "metadata": {},
   "outputs": [
    {
     "data": {
      "text/plain": [
       "['Car ID',\n",
       " 'Status',\n",
       " 'State',\n",
       " 'Model Year',\n",
       " 'Make',\n",
       " 'Body Style',\n",
       " 'Vehicle Value',\n",
       " 'Annual Miles Driven',\n",
       " 'Business Use',\n",
       " 'Antique Vehicle',\n",
       " 'Lien',\n",
       " 'Lease',\n",
       " 'Driver Safety Discount',\n",
       " 'Vehicle Safety Discount',\n",
       " 'Claim Payout',\n",
       " '6 Month Premium Amount']"
      ]
     },
     "execution_count": 13,
     "metadata": {},
     "output_type": "execute_result"
    }
   ],
   "source": [
    "car_df.columns"
   ]
  },
  {
   "cell_type": "code",
   "execution_count": 14,
   "metadata": {},
   "outputs": [
    {
     "data": {
      "text/plain": [
       "['CUST_ID', 'Date of Birth', 'Marital Status', 'Employment_Type', 'Income']"
      ]
     },
     "execution_count": 14,
     "metadata": {},
     "output_type": "execute_result"
    }
   ],
   "source": [
    "customer_df2.columns"
   ]
  },
  {
   "cell_type": "code",
   "execution_count": 15,
   "metadata": {},
   "outputs": [],
   "source": [
    "def convert_to_snakecase(col_list):\n",
    "    renamed_col = {}\n",
    "    for col in col_list:\n",
    "        col_strip = col.strip().upper()\n",
    "        renamed_col[col] = '_'.join(col_strip.split())\n",
    "    return renamed_col\n",
    "\n",
    "def clean_column_names(df):\n",
    "    df1 = df.withColumnsRenamed(convert_to_snakecase(df.columns))\n",
    "    return df1"
   ]
  },
  {
   "cell_type": "code",
   "execution_count": 16,
   "metadata": {},
   "outputs": [],
   "source": [
    "car_df = clean_column_names(car_df)\n",
    "household_df = clean_column_names(household_df)\n",
    "customer_df2 = clean_column_names(customer_df2)\n"
   ]
  },
  {
   "cell_type": "code",
   "execution_count": 17,
   "metadata": {},
   "outputs": [
    {
     "data": {
      "text/plain": [
       "['CAR_ID',\n",
       " 'STATUS',\n",
       " 'STATE',\n",
       " 'MODEL_YEAR',\n",
       " 'MAKE',\n",
       " 'BODY_STYLE',\n",
       " 'VEHICLE_VALUE',\n",
       " 'ANNUAL_MILES_DRIVEN',\n",
       " 'BUSINESS_USE',\n",
       " 'ANTIQUE_VEHICLE',\n",
       " 'LIEN',\n",
       " 'LEASE',\n",
       " 'DRIVER_SAFETY_DISCOUNT',\n",
       " 'VEHICLE_SAFETY_DISCOUNT',\n",
       " 'CLAIM_PAYOUT',\n",
       " '6_MONTH_PREMIUM_AMOUNT']"
      ]
     },
     "execution_count": 17,
     "metadata": {},
     "output_type": "execute_result"
    }
   ],
   "source": [
    "car_df.columns"
   ]
  },
  {
   "cell_type": "code",
   "execution_count": 18,
   "metadata": {},
   "outputs": [],
   "source": [
    "household_df = household_df.withColumnRenamed(\"STATE\", \"HOUSEHOLD_STATE\")\n",
    "car_df = car_df.withColumnRenamed(\"STATE\", \"CAR_STATE\")"
   ]
  },
  {
   "cell_type": "code",
   "execution_count": 19,
   "metadata": {},
   "outputs": [],
   "source": [
    "combined_df = household_df.join(customer_df2, [household_df.CUST_ID == customer_df2.CUST_ID]).join(car_df, [car_df.CAR_ID == household_df.CAR_ID, car_df.CAR_STATE == household_df.HOUSEHOLD_STATE]) \\\n",
    "    .drop(customer_df2.CUST_ID, car_df.CAR_ID)"
   ]
  },
  {
   "cell_type": "code",
   "execution_count": 20,
   "metadata": {},
   "outputs": [
    {
     "data": {
      "text/plain": [
       "500297"
      ]
     },
     "execution_count": 20,
     "metadata": {},
     "output_type": "execute_result"
    }
   ],
   "source": [
    "combined_df.count()"
   ]
  },
  {
   "cell_type": "code",
   "execution_count": 22,
   "metadata": {},
   "outputs": [],
   "source": [
    "combined_df.write.parquet('./final_data.parquet', \"overwrite\")"
   ]
  },
  {
   "cell_type": "code",
   "execution_count": 23,
   "metadata": {},
   "outputs": [],
   "source": [
    "parquet_schema = spark.read.parquet(\"./final_data.parquet/\").schema"
   ]
  },
  {
   "cell_type": "code",
   "execution_count": 24,
   "metadata": {},
   "outputs": [
    {
     "data": {
      "text/plain": [
       "StructType([StructField('HH_ID', IntegerType(), True), StructField('CUST_ID', IntegerType(), True), StructField('CAR_ID', IntegerType(), True), StructField('ACTIVE_HH', IntegerType(), True), StructField('HH_START_DATE', StringType(), True), StructField('PHONE_NUMBER', StringType(), True), StructField('ZIP', IntegerType(), True), StructField('HOUSEHOLD_STATE', StringType(), True), StructField('COUNTRY', StringType(), True), StructField('REFERRAL_SOURCE', StringType(), True), StructField('DATE_OF_BIRTH', StringType(), True), StructField('MARITAL_STATUS', StringType(), True), StructField('EMPLOYMENT_TYPE', StringType(), True), StructField('INCOME', StringType(), True), StructField('STATUS', StringType(), True), StructField('CAR_STATE', StringType(), True), StructField('MODEL_YEAR', IntegerType(), True), StructField('MAKE', StringType(), True), StructField('BODY_STYLE', StringType(), True), StructField('VEHICLE_VALUE', IntegerType(), True), StructField('ANNUAL_MILES_DRIVEN', IntegerType(), True), StructField('BUSINESS_USE', IntegerType(), True), StructField('ANTIQUE_VEHICLE', IntegerType(), True), StructField('LIEN', IntegerType(), True), StructField('LEASE', IntegerType(), True), StructField('DRIVER_SAFETY_DISCOUNT', IntegerType(), True), StructField('VEHICLE_SAFETY_DISCOUNT', IntegerType(), True), StructField('CLAIM_PAYOUT', IntegerType(), True), StructField('6_MONTH_PREMIUM_AMOUNT', FloatType(), True)])"
      ]
     },
     "execution_count": 24,
     "metadata": {},
     "output_type": "execute_result"
    }
   ],
   "source": [
    "parquet_schema"
   ]
  },
  {
   "cell_type": "markdown",
   "metadata": {},
   "source": [
    "### # DATA ANALYSIS"
   ]
  },
  {
   "cell_type": "code",
   "execution_count": null,
   "metadata": {},
   "outputs": [],
   "source": [
    "intial_df = spark.read."
   ]
  }
 ],
 "metadata": {
  "kernelspec": {
   "display_name": "base",
   "language": "python",
   "name": "python3"
  },
  "language_info": {
   "codemirror_mode": {
    "name": "ipython",
    "version": 3
   },
   "file_extension": ".py",
   "mimetype": "text/x-python",
   "name": "python",
   "nbconvert_exporter": "python",
   "pygments_lexer": "ipython3",
   "version": "3.11.6"
  }
 },
 "nbformat": 4,
 "nbformat_minor": 2
}
