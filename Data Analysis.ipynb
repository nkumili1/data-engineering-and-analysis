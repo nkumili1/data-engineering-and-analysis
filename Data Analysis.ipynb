{
 "cells": [
  {
   "cell_type": "markdown",
   "id": "db100ee9-6e51-4dcd-985e-3b4595884ae6",
   "metadata": {},
   "source": [
    "## Data Analysis"
   ]
  },
  {
   "cell_type": "code",
   "execution_count": 2,
   "id": "4a0d0814-20a5-4ed4-8450-bd9dc7139dd0",
   "metadata": {},
   "outputs": [],
   "source": [
    "import pandas as pd\n",
    "from datetime import datetime"
   ]
  },
  {
   "cell_type": "code",
   "execution_count": 3,
   "id": "c54e2ac4-51e2-484e-9b26-b076f6e22730",
   "metadata": {},
   "outputs": [],
   "source": [
    "# read data from parquet file\n",
    "combined_data_df=pd.read_parquet(\"combined_data.parquet\")"
   ]
  },
  {
   "cell_type": "code",
   "execution_count": 20,
   "id": "52e2f8c1",
   "metadata": {},
   "outputs": [],
   "source": [
    "import matplotlib.pyplot as plt\n",
    "\n"
   ]
  },
  {
   "cell_type": "code",
   "execution_count": 27,
   "id": "0b7796cd",
   "metadata": {},
   "outputs": [
    {
     "data": {
      "text/plain": [
       "(5516, 28)"
      ]
     },
     "execution_count": 27,
     "metadata": {},
     "output_type": "execute_result"
    }
   ],
   "source": [
    "combined_data_df[combined_data_df[\"Income\"] > 200000].shape\n"
   ]
  },
  {
   "cell_type": "code",
   "execution_count": 21,
   "id": "c7faa901",
   "metadata": {},
   "outputs": [
    {
     "data": {
      "image/png": "[encoded data removed]",
      "text/plain": [
       "<Figure size 640x480 with 1 Axes>"
      ]
     },
     "metadata": {},
     "output_type": "display_data"
    }
   ],
   "source": [
    "# combined_data_df.describe()\n",
    "# print(combined_data_df.isnull().sum())\n",
    "boxplt = combined_data_df.boxplot(column = \"Income\")\n",
    "\n",
    "boxplt.plot()\n",
    "\n",
    "plt.show()\n",
    "\n"
   ]
  },
  {
   "cell_type": "markdown",
   "id": "b71957d4-6e08-42f9-9954-58f79620cbeb",
   "metadata": {},
   "source": [
    "### What is the average number of cars per household?"
   ]
  },
  {
   "cell_type": "code",
   "execution_count": 4,
   "id": "9db4be95-2c09-451e-bf64-661effbd5cfe",
   "metadata": {},
   "outputs": [],
   "source": [
    "cars_per_household = combined_data_df.groupby(\"HH_ID\").size()"
   ]
  },
  {
   "cell_type": "code",
   "execution_count": 5,
   "id": "3795688a-dd74-4cf8-bde8-9060c9c72cdb",
   "metadata": {},
   "outputs": [
    {
     "name": "stdout",
     "output_type": "stream",
     "text": [
      "The average number of cars per household is: 3.8088266642304647\n"
     ]
    }
   ],
   "source": [
    "average_cars_per_household = cars_per_household.mean()\n",
    "\n",
    "print(f\"The average number of cars per household is: {average_cars_per_household}\")"
   ]
  },
  {
   "cell_type": "markdown",
   "id": "0b141d0a-edaa-4f3f-93e0-fa67b2a01dc5",
   "metadata": {},
   "source": [
    "### How many cars are there by model year?"
   ]
  },
  {
   "cell_type": "code",
   "execution_count": 6,
   "id": "f54686de-f6bc-4bbe-b386-f34417879424",
   "metadata": {},
   "outputs": [
    {
     "data": {
      "text/html": [
       "<style type=\"text/css\">\n",
       "</style>\n",
       "<table id=\"T_85e7f\">\n",
       "  <thead>\n",
       "    <tr>\n",
       "      <th id=\"T_85e7f_level0_col0\" class=\"col_heading level0 col0\" >Model Year</th>\n",
       "      <th id=\"T_85e7f_level0_col1\" class=\"col_heading level0 col1\" >car_count</th>\n",
       "    </tr>\n",
       "  </thead>\n",
       "  <tbody>\n",
       "    <tr>\n",
       "      <td id=\"T_85e7f_row0_col0\" class=\"data row0 col0\" >1952</td>\n",
       "      <td id=\"T_85e7f_row0_col1\" class=\"data row0 col1\" >2523</td>\n",
       "    </tr>\n",
       "    <tr>\n",
       "      <td id=\"T_85e7f_row1_col0\" class=\"data row1 col0\" >1953</td>\n",
       "      <td id=\"T_85e7f_row1_col1\" class=\"data row1 col1\" >2513</td>\n",
       "    </tr>\n",
       "    <tr>\n",
       "      <td id=\"T_85e7f_row2_col0\" class=\"data row2 col0\" >1954</td>\n",
       "      <td id=\"T_85e7f_row2_col1\" class=\"data row2 col1\" >2588</td>\n",
       "    </tr>\n",
       "    <tr>\n",
       "      <td id=\"T_85e7f_row3_col0\" class=\"data row3 col0\" >1955</td>\n",
       "      <td id=\"T_85e7f_row3_col1\" class=\"data row3 col1\" >2517</td>\n",
       "    </tr>\n",
       "    <tr>\n",
       "      <td id=\"T_85e7f_row4_col0\" class=\"data row4 col0\" >1956</td>\n",
       "      <td id=\"T_85e7f_row4_col1\" class=\"data row4 col1\" >2517</td>\n",
       "    </tr>\n",
       "    <tr>\n",
       "      <td id=\"T_85e7f_row5_col0\" class=\"data row5 col0\" >1957</td>\n",
       "      <td id=\"T_85e7f_row5_col1\" class=\"data row5 col1\" >2496</td>\n",
       "    </tr>\n",
       "    <tr>\n",
       "      <td id=\"T_85e7f_row6_col0\" class=\"data row6 col0\" >1958</td>\n",
       "      <td id=\"T_85e7f_row6_col1\" class=\"data row6 col1\" >2583</td>\n",
       "    </tr>\n",
       "    <tr>\n",
       "      <td id=\"T_85e7f_row7_col0\" class=\"data row7 col0\" >1959</td>\n",
       "      <td id=\"T_85e7f_row7_col1\" class=\"data row7 col1\" >2513</td>\n",
       "    </tr>\n",
       "    <tr>\n",
       "      <td id=\"T_85e7f_row8_col0\" class=\"data row8 col0\" >1960</td>\n",
       "      <td id=\"T_85e7f_row8_col1\" class=\"data row8 col1\" >2492</td>\n",
       "    </tr>\n",
       "    <tr>\n",
       "      <td id=\"T_85e7f_row9_col0\" class=\"data row9 col0\" >1961</td>\n",
       "      <td id=\"T_85e7f_row9_col1\" class=\"data row9 col1\" >2499</td>\n",
       "    </tr>\n",
       "    <tr>\n",
       "      <td id=\"T_85e7f_row10_col0\" class=\"data row10 col0\" >1962</td>\n",
       "      <td id=\"T_85e7f_row10_col1\" class=\"data row10 col1\" >2563</td>\n",
       "    </tr>\n",
       "    <tr>\n",
       "      <td id=\"T_85e7f_row11_col0\" class=\"data row11 col0\" >1963</td>\n",
       "      <td id=\"T_85e7f_row11_col1\" class=\"data row11 col1\" >2479</td>\n",
       "    </tr>\n",
       "    <tr>\n",
       "      <td id=\"T_85e7f_row12_col0\" class=\"data row12 col0\" >1964</td>\n",
       "      <td id=\"T_85e7f_row12_col1\" class=\"data row12 col1\" >2497</td>\n",
       "    </tr>\n",
       "    <tr>\n",
       "      <td id=\"T_85e7f_row13_col0\" class=\"data row13 col0\" >1965</td>\n",
       "      <td id=\"T_85e7f_row13_col1\" class=\"data row13 col1\" >2509</td>\n",
       "    </tr>\n",
       "    <tr>\n",
       "      <td id=\"T_85e7f_row14_col0\" class=\"data row14 col0\" >1966</td>\n",
       "      <td id=\"T_85e7f_row14_col1\" class=\"data row14 col1\" >2422</td>\n",
       "    </tr>\n",
       "    <tr>\n",
       "      <td id=\"T_85e7f_row15_col0\" class=\"data row15 col0\" >1967</td>\n",
       "      <td id=\"T_85e7f_row15_col1\" class=\"data row15 col1\" >2544</td>\n",
       "    </tr>\n",
       "    <tr>\n",
       "      <td id=\"T_85e7f_row16_col0\" class=\"data row16 col0\" >1968</td>\n",
       "      <td id=\"T_85e7f_row16_col1\" class=\"data row16 col1\" >2443</td>\n",
       "    </tr>\n",
       "    <tr>\n",
       "      <td id=\"T_85e7f_row17_col0\" class=\"data row17 col0\" >1969</td>\n",
       "      <td id=\"T_85e7f_row17_col1\" class=\"data row17 col1\" >2501</td>\n",
       "    </tr>\n",
       "    <tr>\n",
       "      <td id=\"T_85e7f_row18_col0\" class=\"data row18 col0\" >1970</td>\n",
       "      <td id=\"T_85e7f_row18_col1\" class=\"data row18 col1\" >2497</td>\n",
       "    </tr>\n",
       "    <tr>\n",
       "      <td id=\"T_85e7f_row19_col0\" class=\"data row19 col0\" >1971</td>\n",
       "      <td id=\"T_85e7f_row19_col1\" class=\"data row19 col1\" >2529</td>\n",
       "    </tr>\n",
       "    <tr>\n",
       "      <td id=\"T_85e7f_row20_col0\" class=\"data row20 col0\" >1972</td>\n",
       "      <td id=\"T_85e7f_row20_col1\" class=\"data row20 col1\" >2550</td>\n",
       "    </tr>\n",
       "    <tr>\n",
       "      <td id=\"T_85e7f_row21_col0\" class=\"data row21 col0\" >1973</td>\n",
       "      <td id=\"T_85e7f_row21_col1\" class=\"data row21 col1\" >2466</td>\n",
       "    </tr>\n",
       "    <tr>\n",
       "      <td id=\"T_85e7f_row22_col0\" class=\"data row22 col0\" >1974</td>\n",
       "      <td id=\"T_85e7f_row22_col1\" class=\"data row22 col1\" >2470</td>\n",
       "    </tr>\n",
       "    <tr>\n",
       "      <td id=\"T_85e7f_row23_col0\" class=\"data row23 col0\" >1975</td>\n",
       "      <td id=\"T_85e7f_row23_col1\" class=\"data row23 col1\" >2552</td>\n",
       "    </tr>\n",
       "    <tr>\n",
       "      <td id=\"T_85e7f_row24_col0\" class=\"data row24 col0\" >1976</td>\n",
       "      <td id=\"T_85e7f_row24_col1\" class=\"data row24 col1\" >2571</td>\n",
       "    </tr>\n",
       "    <tr>\n",
       "      <td id=\"T_85e7f_row25_col0\" class=\"data row25 col0\" >1977</td>\n",
       "      <td id=\"T_85e7f_row25_col1\" class=\"data row25 col1\" >2497</td>\n",
       "    </tr>\n",
       "    <tr>\n",
       "      <td id=\"T_85e7f_row26_col0\" class=\"data row26 col0\" >1978</td>\n",
       "      <td id=\"T_85e7f_row26_col1\" class=\"data row26 col1\" >2539</td>\n",
       "    </tr>\n",
       "    <tr>\n",
       "      <td id=\"T_85e7f_row27_col0\" class=\"data row27 col0\" >1979</td>\n",
       "      <td id=\"T_85e7f_row27_col1\" class=\"data row27 col1\" >2494</td>\n",
       "    </tr>\n",
       "    <tr>\n",
       "      <td id=\"T_85e7f_row28_col0\" class=\"data row28 col0\" >1980</td>\n",
       "      <td id=\"T_85e7f_row28_col1\" class=\"data row28 col1\" >2417</td>\n",
       "    </tr>\n",
       "    <tr>\n",
       "      <td id=\"T_85e7f_row29_col0\" class=\"data row29 col0\" >1981</td>\n",
       "      <td id=\"T_85e7f_row29_col1\" class=\"data row29 col1\" >2591</td>\n",
       "    </tr>\n",
       "    <tr>\n",
       "      <td id=\"T_85e7f_row30_col0\" class=\"data row30 col0\" >1982</td>\n",
       "      <td id=\"T_85e7f_row30_col1\" class=\"data row30 col1\" >2545</td>\n",
       "    </tr>\n",
       "    <tr>\n",
       "      <td id=\"T_85e7f_row31_col0\" class=\"data row31 col0\" >1983</td>\n",
       "      <td id=\"T_85e7f_row31_col1\" class=\"data row31 col1\" >2533</td>\n",
       "    </tr>\n",
       "    <tr>\n",
       "      <td id=\"T_85e7f_row32_col0\" class=\"data row32 col0\" >1984</td>\n",
       "      <td id=\"T_85e7f_row32_col1\" class=\"data row32 col1\" >2517</td>\n",
       "    </tr>\n",
       "    <tr>\n",
       "      <td id=\"T_85e7f_row33_col0\" class=\"data row33 col0\" >1985</td>\n",
       "      <td id=\"T_85e7f_row33_col1\" class=\"data row33 col1\" >2450</td>\n",
       "    </tr>\n",
       "    <tr>\n",
       "      <td id=\"T_85e7f_row34_col0\" class=\"data row34 col0\" >1986</td>\n",
       "      <td id=\"T_85e7f_row34_col1\" class=\"data row34 col1\" >2546</td>\n",
       "    </tr>\n",
       "    <tr>\n",
       "      <td id=\"T_85e7f_row35_col0\" class=\"data row35 col0\" >1987</td>\n",
       "      <td id=\"T_85e7f_row35_col1\" class=\"data row35 col1\" >2465</td>\n",
       "    </tr>\n",
       "    <tr>\n",
       "      <td id=\"T_85e7f_row36_col0\" class=\"data row36 col0\" >1988</td>\n",
       "      <td id=\"T_85e7f_row36_col1\" class=\"data row36 col1\" >2483</td>\n",
       "    </tr>\n",
       "    <tr>\n",
       "      <td id=\"T_85e7f_row37_col0\" class=\"data row37 col0\" >1989</td>\n",
       "      <td id=\"T_85e7f_row37_col1\" class=\"data row37 col1\" >2542</td>\n",
       "    </tr>\n",
       "    <tr>\n",
       "      <td id=\"T_85e7f_row38_col0\" class=\"data row38 col0\" >1990</td>\n",
       "      <td id=\"T_85e7f_row38_col1\" class=\"data row38 col1\" >2517</td>\n",
       "    </tr>\n",
       "    <tr>\n",
       "      <td id=\"T_85e7f_row39_col0\" class=\"data row39 col0\" >1991</td>\n",
       "      <td id=\"T_85e7f_row39_col1\" class=\"data row39 col1\" >2498</td>\n",
       "    </tr>\n",
       "    <tr>\n",
       "      <td id=\"T_85e7f_row40_col0\" class=\"data row40 col0\" >1992</td>\n",
       "      <td id=\"T_85e7f_row40_col1\" class=\"data row40 col1\" >2448</td>\n",
       "    </tr>\n",
       "    <tr>\n",
       "      <td id=\"T_85e7f_row41_col0\" class=\"data row41 col0\" >1993</td>\n",
       "      <td id=\"T_85e7f_row41_col1\" class=\"data row41 col1\" >2457</td>\n",
       "    </tr>\n",
       "    <tr>\n",
       "      <td id=\"T_85e7f_row42_col0\" class=\"data row42 col0\" >1994</td>\n",
       "      <td id=\"T_85e7f_row42_col1\" class=\"data row42 col1\" >2525</td>\n",
       "    </tr>\n",
       "    <tr>\n",
       "      <td id=\"T_85e7f_row43_col0\" class=\"data row43 col0\" >1995</td>\n",
       "      <td id=\"T_85e7f_row43_col1\" class=\"data row43 col1\" >2535</td>\n",
       "    </tr>\n",
       "    <tr>\n",
       "      <td id=\"T_85e7f_row44_col0\" class=\"data row44 col0\" >1996</td>\n",
       "      <td id=\"T_85e7f_row44_col1\" class=\"data row44 col1\" >2500</td>\n",
       "    </tr>\n",
       "    <tr>\n",
       "      <td id=\"T_85e7f_row45_col0\" class=\"data row45 col0\" >1997</td>\n",
       "      <td id=\"T_85e7f_row45_col1\" class=\"data row45 col1\" >2535</td>\n",
       "    </tr>\n",
       "    <tr>\n",
       "      <td id=\"T_85e7f_row46_col0\" class=\"data row46 col0\" >1998</td>\n",
       "      <td id=\"T_85e7f_row46_col1\" class=\"data row46 col1\" >2522</td>\n",
       "    </tr>\n",
       "    <tr>\n",
       "      <td id=\"T_85e7f_row47_col0\" class=\"data row47 col0\" >1999</td>\n",
       "      <td id=\"T_85e7f_row47_col1\" class=\"data row47 col1\" >2523</td>\n",
       "    </tr>\n",
       "    <tr>\n",
       "      <td id=\"T_85e7f_row48_col0\" class=\"data row48 col0\" >2000</td>\n",
       "      <td id=\"T_85e7f_row48_col1\" class=\"data row48 col1\" >2450</td>\n",
       "    </tr>\n",
       "    <tr>\n",
       "      <td id=\"T_85e7f_row49_col0\" class=\"data row49 col0\" >2001</td>\n",
       "      <td id=\"T_85e7f_row49_col1\" class=\"data row49 col1\" >2491</td>\n",
       "    </tr>\n",
       "    <tr>\n",
       "      <td id=\"T_85e7f_row50_col0\" class=\"data row50 col0\" >2002</td>\n",
       "      <td id=\"T_85e7f_row50_col1\" class=\"data row50 col1\" >16315</td>\n",
       "    </tr>\n",
       "    <tr>\n",
       "      <td id=\"T_85e7f_row51_col0\" class=\"data row51 col0\" >2003</td>\n",
       "      <td id=\"T_85e7f_row51_col1\" class=\"data row51 col1\" >16202</td>\n",
       "    </tr>\n",
       "    <tr>\n",
       "      <td id=\"T_85e7f_row52_col0\" class=\"data row52 col0\" >2004</td>\n",
       "      <td id=\"T_85e7f_row52_col1\" class=\"data row52 col1\" >16473</td>\n",
       "    </tr>\n",
       "    <tr>\n",
       "      <td id=\"T_85e7f_row53_col0\" class=\"data row53 col0\" >2005</td>\n",
       "      <td id=\"T_85e7f_row53_col1\" class=\"data row53 col1\" >16361</td>\n",
       "    </tr>\n",
       "    <tr>\n",
       "      <td id=\"T_85e7f_row54_col0\" class=\"data row54 col0\" >2006</td>\n",
       "      <td id=\"T_85e7f_row54_col1\" class=\"data row54 col1\" >16225</td>\n",
       "    </tr>\n",
       "    <tr>\n",
       "      <td id=\"T_85e7f_row55_col0\" class=\"data row55 col0\" >2007</td>\n",
       "      <td id=\"T_85e7f_row55_col1\" class=\"data row55 col1\" >16274</td>\n",
       "    </tr>\n",
       "    <tr>\n",
       "      <td id=\"T_85e7f_row56_col0\" class=\"data row56 col0\" >2008</td>\n",
       "      <td id=\"T_85e7f_row56_col1\" class=\"data row56 col1\" >16347</td>\n",
       "    </tr>\n",
       "    <tr>\n",
       "      <td id=\"T_85e7f_row57_col0\" class=\"data row57 col0\" >2009</td>\n",
       "      <td id=\"T_85e7f_row57_col1\" class=\"data row57 col1\" >16397</td>\n",
       "    </tr>\n",
       "    <tr>\n",
       "      <td id=\"T_85e7f_row58_col0\" class=\"data row58 col0\" >2010</td>\n",
       "      <td id=\"T_85e7f_row58_col1\" class=\"data row58 col1\" >16118</td>\n",
       "    </tr>\n",
       "    <tr>\n",
       "      <td id=\"T_85e7f_row59_col0\" class=\"data row59 col0\" >2011</td>\n",
       "      <td id=\"T_85e7f_row59_col1\" class=\"data row59 col1\" >16529</td>\n",
       "    </tr>\n",
       "    <tr>\n",
       "      <td id=\"T_85e7f_row60_col0\" class=\"data row60 col0\" >2012</td>\n",
       "      <td id=\"T_85e7f_row60_col1\" class=\"data row60 col1\" >16122</td>\n",
       "    </tr>\n",
       "    <tr>\n",
       "      <td id=\"T_85e7f_row61_col0\" class=\"data row61 col0\" >2013</td>\n",
       "      <td id=\"T_85e7f_row61_col1\" class=\"data row61 col1\" >16261</td>\n",
       "    </tr>\n",
       "    <tr>\n",
       "      <td id=\"T_85e7f_row62_col0\" class=\"data row62 col0\" >2014</td>\n",
       "      <td id=\"T_85e7f_row62_col1\" class=\"data row62 col1\" >16281</td>\n",
       "    </tr>\n",
       "    <tr>\n",
       "      <td id=\"T_85e7f_row63_col0\" class=\"data row63 col0\" >2015</td>\n",
       "      <td id=\"T_85e7f_row63_col1\" class=\"data row63 col1\" >16483</td>\n",
       "    </tr>\n",
       "    <tr>\n",
       "      <td id=\"T_85e7f_row64_col0\" class=\"data row64 col0\" >2016</td>\n",
       "      <td id=\"T_85e7f_row64_col1\" class=\"data row64 col1\" >16461</td>\n",
       "    </tr>\n",
       "    <tr>\n",
       "      <td id=\"T_85e7f_row65_col0\" class=\"data row65 col0\" >2017</td>\n",
       "      <td id=\"T_85e7f_row65_col1\" class=\"data row65 col1\" >16404</td>\n",
       "    </tr>\n",
       "    <tr>\n",
       "      <td id=\"T_85e7f_row66_col0\" class=\"data row66 col0\" >2018</td>\n",
       "      <td id=\"T_85e7f_row66_col1\" class=\"data row66 col1\" >16149</td>\n",
       "    </tr>\n",
       "    <tr>\n",
       "      <td id=\"T_85e7f_row67_col0\" class=\"data row67 col0\" >2019</td>\n",
       "      <td id=\"T_85e7f_row67_col1\" class=\"data row67 col1\" >16090</td>\n",
       "    </tr>\n",
       "    <tr>\n",
       "      <td id=\"T_85e7f_row68_col0\" class=\"data row68 col0\" >2020</td>\n",
       "      <td id=\"T_85e7f_row68_col1\" class=\"data row68 col1\" >16075</td>\n",
       "    </tr>\n",
       "    <tr>\n",
       "      <td id=\"T_85e7f_row69_col0\" class=\"data row69 col0\" >2021</td>\n",
       "      <td id=\"T_85e7f_row69_col1\" class=\"data row69 col1\" >16486</td>\n",
       "    </tr>\n",
       "    <tr>\n",
       "      <td id=\"T_85e7f_row70_col0\" class=\"data row70 col0\" >2022</td>\n",
       "      <td id=\"T_85e7f_row70_col1\" class=\"data row70 col1\" >16219</td>\n",
       "    </tr>\n",
       "    <tr>\n",
       "      <td id=\"T_85e7f_row71_col0\" class=\"data row71 col0\" >2023</td>\n",
       "      <td id=\"T_85e7f_row71_col1\" class=\"data row71 col1\" >16158</td>\n",
       "    </tr>\n",
       "    <tr>\n",
       "      <td id=\"T_85e7f_row72_col0\" class=\"data row72 col0\" >2024</td>\n",
       "      <td id=\"T_85e7f_row72_col1\" class=\"data row72 col1\" >16413</td>\n",
       "    </tr>\n",
       "  </tbody>\n",
       "</table>\n"
      ],
      "text/plain": [
       "<pandas.io.formats.style.Styler at 0x40a5f1b150>"
      ]
     },
     "execution_count": 6,
     "metadata": {},
     "output_type": "execute_result"
    }
   ],
   "source": [
    "cars_by_model_year = combined_data_df[[\"CAR_ID\",\"Model Year\"]].groupby(\"Model Year\")\\\n",
    ".agg(car_count=pd.NamedAgg(column=\"CAR_ID\",aggfunc='count')).reset_index()\n",
    "cars_by_model_year.style.hide(axis='index')"
   ]
  },
  {
   "cell_type": "markdown",
   "id": "4f27c463-e200-4298-a72e-207de136cdc7",
   "metadata": {},
   "source": [
    "### How many cars are there by make?"
   ]
  },
  {
   "cell_type": "code",
   "execution_count": 7,
   "id": "9364c3a8-baa0-468d-8d14-7b57efaecc08",
   "metadata": {},
   "outputs": [],
   "source": [
    "cars_by_make = combined_data_df[[\"CAR_ID\",\"Make\"]].groupby(\"Make\")\\\n",
    ".agg(car_count=pd.NamedAgg(column=\"CAR_ID\",aggfunc='count'))"
   ]
  },
  {
   "cell_type": "code",
   "execution_count": 8,
   "id": "f1ded2ce-173e-4744-a05e-69399aaebf7e",
   "metadata": {},
   "outputs": [
    {
     "name": "stdout",
     "output_type": "stream",
     "text": [
      "               car_count\n",
      "Make                    \n",
      "Manufacturer1      99822\n",
      "Manufacturer2     100079\n",
      "Manufacturer3     100046\n",
      "Manufacturer4      34839\n",
      "Manufacturer5      34872\n",
      "Manufacturer6      65344\n",
      "Manufacturer7      65295\n"
     ]
    }
   ],
   "source": [
    "print(cars_by_make)"
   ]
  },
  {
   "cell_type": "markdown",
   "id": "e2fc78fc-d006-42f4-997e-0c061af0cf43",
   "metadata": {},
   "source": [
    "### Which cars are the safest?  What variables did you consider to define “safe”? "
   ]
  },
  {
   "cell_type": "code",
   "execution_count": 28,
   "id": "65c72d06-c1ed-4fd4-9d76-c5f48f00a967",
   "metadata": {},
   "outputs": [],
   "source": [
    "# I am hypothesizing that a car(Make, Model Year, Body Style) \n",
    "# can be considered \"safe\" if it has Vehicle Safety Discount \n",
    "# provided and has no Claim payouts\n",
    "\n",
    "safe_car=combined_data_df[(combined_data_df[\"Vehicle Safety Discount\"]==1) \\\n",
    "& (combined_data_df[\"Claim Payout\"]==0)] \\\n",
    "[[\"Model Year\",\"Make\",\"Body Style\"]]"
   ]
  },
  {
   "cell_type": "code",
   "execution_count": 29,
   "id": "85a9951c-c385-4ca6-a3a2-d3d5961edbd4",
   "metadata": {},
   "outputs": [
    {
     "data": {
      "text/html": [
       "<style type=\"text/css\">\n",
       "</style>\n",
       "<table id=\"T_84b35\">\n",
       "  <thead>\n",
       "    <tr>\n",
       "      <th id=\"T_84b35_level0_col0\" class=\"col_heading level0 col0\" >Model Year</th>\n",
       "      <th id=\"T_84b35_level0_col1\" class=\"col_heading level0 col1\" >Make</th>\n",
       "      <th id=\"T_84b35_level0_col2\" class=\"col_heading level0 col2\" >Body Style</th>\n",
       "      <th id=\"T_84b35_level0_col3\" class=\"col_heading level0 col3\" >safe_car_count</th>\n",
       "    </tr>\n",
       "  </thead>\n",
       "  <tbody>\n",
       "    <tr>\n",
       "      <td id=\"T_84b35_row0_col0\" class=\"data row0 col0\" >2021</td>\n",
       "      <td id=\"T_84b35_row0_col1\" class=\"data row0 col1\" >Manufacturer6</td>\n",
       "      <td id=\"T_84b35_row0_col2\" class=\"data row0 col2\" >SUV</td>\n",
       "      <td id=\"T_84b35_row0_col3\" class=\"data row0 col3\" >551</td>\n",
       "    </tr>\n",
       "    <tr>\n",
       "      <td id=\"T_84b35_row1_col0\" class=\"data row1 col0\" >2024</td>\n",
       "      <td id=\"T_84b35_row1_col1\" class=\"data row1 col1\" >Manufacturer3</td>\n",
       "      <td id=\"T_84b35_row1_col2\" class=\"data row1 col2\" >SUV</td>\n",
       "      <td id=\"T_84b35_row1_col3\" class=\"data row1 col3\" >538</td>\n",
       "    </tr>\n",
       "    <tr>\n",
       "      <td id=\"T_84b35_row2_col0\" class=\"data row2 col0\" >2022</td>\n",
       "      <td id=\"T_84b35_row2_col1\" class=\"data row2 col1\" >Manufacturer7</td>\n",
       "      <td id=\"T_84b35_row2_col2\" class=\"data row2 col2\" >SUV</td>\n",
       "      <td id=\"T_84b35_row2_col3\" class=\"data row2 col3\" >537</td>\n",
       "    </tr>\n",
       "    <tr>\n",
       "      <td id=\"T_84b35_row3_col0\" class=\"data row3 col0\" >2020</td>\n",
       "      <td id=\"T_84b35_row3_col1\" class=\"data row3 col1\" >Manufacturer7</td>\n",
       "      <td id=\"T_84b35_row3_col2\" class=\"data row3 col2\" >SUV</td>\n",
       "      <td id=\"T_84b35_row3_col3\" class=\"data row3 col3\" >535</td>\n",
       "    </tr>\n",
       "    <tr>\n",
       "      <td id=\"T_84b35_row4_col0\" class=\"data row4 col0\" >2023</td>\n",
       "      <td id=\"T_84b35_row4_col1\" class=\"data row4 col1\" >Manufacturer7</td>\n",
       "      <td id=\"T_84b35_row4_col2\" class=\"data row4 col2\" >SUV</td>\n",
       "      <td id=\"T_84b35_row4_col3\" class=\"data row4 col3\" >528</td>\n",
       "    </tr>\n",
       "  </tbody>\n",
       "</table>\n"
      ],
      "text/plain": [
       "<pandas.io.formats.style.Styler at 0x765efbf3fc50>"
      ]
     },
     "execution_count": 29,
     "metadata": {},
     "output_type": "execute_result"
    }
   ],
   "source": [
    "# get the count of each \"safe car\"(Make, Model Year, Body Style) and sort them by count in descending order and display the data\n",
    "\n",
    "safe_car1=safe_car.groupby([\"Model Year\",\"Make\",\"Body Style\"])\\\n",
    ".agg(safe_car_count=pd.NamedAgg(column=\"Body Style\",aggfunc='count'))\\\n",
    ".sort_values(by='safe_car_count',ascending=False).head(5)\\\n",
    ".reset_index()\n",
    "safe_car1.style.hide(axis='index')"
   ]
  },
  {
   "cell_type": "markdown",
   "id": "6f5a4fee-0960-44de-adf0-618d7ee75357",
   "metadata": {},
   "source": [
    "### Which states have the largest households (defined as number of customers in a household)?"
   ]
  },
  {
   "cell_type": "code",
   "execution_count": 30,
   "id": "279a2c92-207f-46cd-b7dc-49bb5207ead9",
   "metadata": {},
   "outputs": [],
   "source": [
    "group_df = combined_data_df.groupby([\"State\", \"HH_ID\"]) \\\n",
    ".agg(large_household=pd.NamedAgg(column=\"CUST_ID\",aggfunc='count'))\n",
    "\n",
    "max_house_count_per_state = group_df.groupby(\"State\")[\"large_household\"].max().reset_index()"
   ]
  },
  {
   "cell_type": "code",
   "execution_count": 31,
   "id": "0bad1fbc-afd0-4257-b840-8b5df96b8d44",
   "metadata": {},
   "outputs": [
    {
     "data": {
      "text/html": [
       "<style type=\"text/css\">\n",
       "</style>\n",
       "<table id=\"T_e891a\">\n",
       "  <thead>\n",
       "    <tr>\n",
       "      <th id=\"T_e891a_level0_col0\" class=\"col_heading level0 col0\" >State</th>\n",
       "      <th id=\"T_e891a_level0_col1\" class=\"col_heading level0 col1\" >large_household</th>\n",
       "    </tr>\n",
       "  </thead>\n",
       "  <tbody>\n",
       "    <tr>\n",
       "      <td id=\"T_e891a_row0_col0\" class=\"data row0 col0\" >AK</td>\n",
       "      <td id=\"T_e891a_row0_col1\" class=\"data row0 col1\" >8</td>\n",
       "    </tr>\n",
       "    <tr>\n",
       "      <td id=\"T_e891a_row1_col0\" class=\"data row1 col0\" >AZ</td>\n",
       "      <td id=\"T_e891a_row1_col1\" class=\"data row1 col1\" >8</td>\n",
       "    </tr>\n",
       "    <tr>\n",
       "      <td id=\"T_e891a_row2_col0\" class=\"data row2 col0\" >GA</td>\n",
       "      <td id=\"T_e891a_row2_col1\" class=\"data row2 col1\" >8</td>\n",
       "    </tr>\n",
       "    <tr>\n",
       "      <td id=\"T_e891a_row3_col0\" class=\"data row3 col0\" >HI</td>\n",
       "      <td id=\"T_e891a_row3_col1\" class=\"data row3 col1\" >8</td>\n",
       "    </tr>\n",
       "    <tr>\n",
       "      <td id=\"T_e891a_row4_col0\" class=\"data row4 col0\" >ID</td>\n",
       "      <td id=\"T_e891a_row4_col1\" class=\"data row4 col1\" >8</td>\n",
       "    </tr>\n",
       "    <tr>\n",
       "      <td id=\"T_e891a_row5_col0\" class=\"data row5 col0\" >IN</td>\n",
       "      <td id=\"T_e891a_row5_col1\" class=\"data row5 col1\" >8</td>\n",
       "    </tr>\n",
       "    <tr>\n",
       "      <td id=\"T_e891a_row6_col0\" class=\"data row6 col0\" >KS</td>\n",
       "      <td id=\"T_e891a_row6_col1\" class=\"data row6 col1\" >8</td>\n",
       "    </tr>\n",
       "    <tr>\n",
       "      <td id=\"T_e891a_row7_col0\" class=\"data row7 col0\" >KY</td>\n",
       "      <td id=\"T_e891a_row7_col1\" class=\"data row7 col1\" >8</td>\n",
       "    </tr>\n",
       "    <tr>\n",
       "      <td id=\"T_e891a_row8_col0\" class=\"data row8 col0\" >MI</td>\n",
       "      <td id=\"T_e891a_row8_col1\" class=\"data row8 col1\" >8</td>\n",
       "    </tr>\n",
       "    <tr>\n",
       "      <td id=\"T_e891a_row9_col0\" class=\"data row9 col0\" >MN</td>\n",
       "      <td id=\"T_e891a_row9_col1\" class=\"data row9 col1\" >8</td>\n",
       "    </tr>\n",
       "    <tr>\n",
       "      <td id=\"T_e891a_row10_col0\" class=\"data row10 col0\" >MT</td>\n",
       "      <td id=\"T_e891a_row10_col1\" class=\"data row10 col1\" >8</td>\n",
       "    </tr>\n",
       "    <tr>\n",
       "      <td id=\"T_e891a_row11_col0\" class=\"data row11 col0\" >ND</td>\n",
       "      <td id=\"T_e891a_row11_col1\" class=\"data row11 col1\" >8</td>\n",
       "    </tr>\n",
       "    <tr>\n",
       "      <td id=\"T_e891a_row12_col0\" class=\"data row12 col0\" >NH</td>\n",
       "      <td id=\"T_e891a_row12_col1\" class=\"data row12 col1\" >8</td>\n",
       "    </tr>\n",
       "    <tr>\n",
       "      <td id=\"T_e891a_row13_col0\" class=\"data row13 col0\" >OH</td>\n",
       "      <td id=\"T_e891a_row13_col1\" class=\"data row13 col1\" >8</td>\n",
       "    </tr>\n",
       "    <tr>\n",
       "      <td id=\"T_e891a_row14_col0\" class=\"data row14 col0\" >OK</td>\n",
       "      <td id=\"T_e891a_row14_col1\" class=\"data row14 col1\" >8</td>\n",
       "    </tr>\n",
       "    <tr>\n",
       "      <td id=\"T_e891a_row15_col0\" class=\"data row15 col0\" >RI</td>\n",
       "      <td id=\"T_e891a_row15_col1\" class=\"data row15 col1\" >8</td>\n",
       "    </tr>\n",
       "    <tr>\n",
       "      <td id=\"T_e891a_row16_col0\" class=\"data row16 col0\" >SD</td>\n",
       "      <td id=\"T_e891a_row16_col1\" class=\"data row16 col1\" >8</td>\n",
       "    </tr>\n",
       "    <tr>\n",
       "      <td id=\"T_e891a_row17_col0\" class=\"data row17 col0\" >TN</td>\n",
       "      <td id=\"T_e891a_row17_col1\" class=\"data row17 col1\" >8</td>\n",
       "    </tr>\n",
       "    <tr>\n",
       "      <td id=\"T_e891a_row18_col0\" class=\"data row18 col0\" >VA</td>\n",
       "      <td id=\"T_e891a_row18_col1\" class=\"data row18 col1\" >8</td>\n",
       "    </tr>\n",
       "    <tr>\n",
       "      <td id=\"T_e891a_row19_col0\" class=\"data row19 col0\" >WA</td>\n",
       "      <td id=\"T_e891a_row19_col1\" class=\"data row19 col1\" >8</td>\n",
       "    </tr>\n",
       "    <tr>\n",
       "      <td id=\"T_e891a_row20_col0\" class=\"data row20 col0\" >WY</td>\n",
       "      <td id=\"T_e891a_row20_col1\" class=\"data row20 col1\" >8</td>\n",
       "    </tr>\n",
       "  </tbody>\n",
       "</table>\n"
      ],
      "text/plain": [
       "<pandas.io.formats.style.Styler at 0x765efb532c50>"
      ]
     },
     "metadata": {},
     "output_type": "display_data"
    }
   ],
   "source": [
    "from IPython.display import display\n",
    "max_count=max_house_count_per_state['large_household'].max()\n",
    "display(max_house_count_per_state[max_house_count_per_state['large_household']==max_count]\n",
    ".style.hide(axis='index'))"
   ]
  },
  {
   "cell_type": "markdown",
   "id": "414c8cdf-6a59-4019-9f5f-0ef12438451c",
   "metadata": {},
   "source": [
    "### How many active households are there as of 1/1/2021?"
   ]
  },
  {
   "cell_type": "code",
   "execution_count": 32,
   "id": "ae37616d-0325-4631-8de7-559a48ab8364",
   "metadata": {},
   "outputs": [],
   "source": [
    "def date_format_correction(df, column, format = \"%m/%d/%y\"):\n",
    "\n",
    "    # correct the date conversion pandas is doing to prevent invalid dates(future date)\n",
    "    \n",
    "    df[column] = pd.to_datetime(df[column], format = format) \\\n",
    "    .apply(lambda x: x if x.year < datetime.now().year else x.replace(year = x.year-100))\n",
    "\n",
    "    return df[column]"
   ]
  },
  {
   "cell_type": "code",
   "execution_count": 33,
   "id": "4c3f77bc-95e6-43f8-abcc-db49b911324f",
   "metadata": {},
   "outputs": [],
   "source": [
    "# correct the date conversion pandas is doing to prevent invalid HH start dates(future date)\n",
    "\n",
    "combined_data_df[\"HH Start Date\"] = date_format_correction(combined_data_df, \"HH Start Date\", \"%m/%d/%y\")"
   ]
  },
  {
   "cell_type": "code",
   "execution_count": 35,
   "id": "7f51704e-2aef-442e-9c1b-59f881206fe5",
   "metadata": {},
   "outputs": [],
   "source": [
    "num_of_active_HHs = combined_data_df[(combined_data_df[\"Active HH\"] == 1) \\\n",
    "& (combined_data_df[\"HH Start Date\"] <= '01/01/2021') ][\"HH_ID\"].nunique()"
   ]
  },
  {
   "cell_type": "code",
   "execution_count": 36,
   "id": "cf4fc115-cfa7-447f-9bfc-973cc184a4ca",
   "metadata": {},
   "outputs": [
    {
     "name": "stdout",
     "output_type": "stream",
     "text": [
      "There are 96421 active households as of 1/1/2021\n"
     ]
    }
   ],
   "source": [
    "print(f\"There are {num_of_active_HHs} active households as of 1/1/2021\")"
   ]
  },
  {
   "cell_type": "markdown",
   "id": "460982ef-023c-48ad-9eb2-439a8bd7608c",
   "metadata": {},
   "source": [
    "### What is the average age of customers?"
   ]
  },
  {
   "cell_type": "code",
   "execution_count": 37,
   "id": "fa42ff18-6c48-491c-aa11-4c7bb9d77508",
   "metadata": {},
   "outputs": [],
   "source": [
    "combined_data_df[\"Date of Birth\"] = date_format_correction(combined_data_df, \"Date of Birth\", \"%m/%d/%y\")"
   ]
  },
  {
   "cell_type": "code",
   "execution_count": 38,
   "id": "ba001c1e-55b7-4162-8446-a0fffc4092ac",
   "metadata": {},
   "outputs": [],
   "source": [
    "def calculate_age(birthdate):\n",
    "    #calculate age by subtracting DOB with current date and dividing by 365 days\n",
    "    today = datetime.today()\n",
    "    return ((pd.to_datetime(today) - pd.to_datetime(birthdate)).days)/365"
   ]
  },
  {
   "cell_type": "code",
   "execution_count": 39,
   "id": "948f8cf7-5aba-4521-b7da-f2b9e99b5b90",
   "metadata": {},
   "outputs": [],
   "source": [
    "combined_data_df['Age'] = combined_data_df['Date of Birth'].apply(calculate_age)"
   ]
  },
  {
   "cell_type": "code",
   "execution_count": 40,
   "id": "801f00b2-66b2-4f40-8405-6a98c5890467",
   "metadata": {},
   "outputs": [
    {
     "name": "stdout",
     "output_type": "stream",
     "text": [
      "Average Age of Customers is 51.0913454230105 yrs\n"
     ]
    }
   ],
   "source": [
    "print(f\"Average Age of Customers is {combined_data_df['Age'].mean()} yrs\")"
   ]
  },
  {
   "cell_type": "markdown",
   "id": "a7ed29e3-3308-4111-a988-6f609ea5e24b",
   "metadata": {},
   "source": [
    "### How much does age vary by region?"
   ]
  },
  {
   "cell_type": "code",
   "execution_count": 41,
   "id": "e5d859c2-bb76-46c5-a011-22949534744a",
   "metadata": {},
   "outputs": [],
   "source": [
    "\n",
    "import matplotlib.pyplot as plt\n",
    "# Create age groups\n",
    "bins = [16, 18, 25, 35, 45, 55, 65, 100]\n",
    "labels = ['16-18', '19-25', '26-35', '36-45', '46-55', '56-65', '66+']\n",
    "combined_data_df['Age Group'] = pd.cut(combined_data_df['Age'], bins=bins, labels=labels, right=False)\n",
    "\n",
    "# Group data by 'State' and 'Age Group' and count the number of customers\n",
    "age_group_by_state = combined_data_df.groupby(['State', 'Age Group']) \\\n",
    ".agg(cust_count=pd.NamedAgg(column=\"CUST_ID\",aggfunc='count')) \\\n",
    ".reset_index()\n"
   ]
  },
  {
   "cell_type": "code",
   "execution_count": 45,
   "id": "70b06ff1",
   "metadata": {},
   "outputs": [
    {
     "data": {
      "image/png": "[encoded data removed]",
      "text/plain": [
       "<Figure size 640x480 with 1 Axes>"
      ]
     },
     "metadata": {},
     "output_type": "display_data"
    }
   ],
   "source": [
    "boxplt = combined_data_df.boxplot(column = \"Claim Payout\", by = \"Age Group\")\n",
    "\n",
    "boxplt.plot()\n",
    "\n",
    "plt.show()"
   ]
  },
  {
   "cell_type": "code",
   "execution_count": 26,
   "id": "ed5dbd33-b870-471e-920e-d4a7a6ba7216",
   "metadata": {},
   "outputs": [
    {
     "data": {
      "image/png": "[encoded data removed]",
      "text/plain": [
       "<Figure size 1500x800 with 1 Axes>"
      ]
     },
     "metadata": {},
     "output_type": "display_data"
    }
   ],
   "source": [
    "# Pivot the table to have states as rows and age groups as columns for stacked bar chart\n",
    "age_group_pivot = age_group_by_state.pivot(index='State', columns='Age Group', values='cust_count').fillna(0)\n",
    "\n",
    "# Plot the bar graph\n",
    "age_group_pivot.plot(kind='bar', stacked=True, figsize=(15, 8))\n",
    "\n",
    "# Add labels and title\n",
    "plt.xlabel('State')\n",
    "plt.ylabel('Number of Customers')\n",
    "plt.title('Age Distribution by State (Car Insurance)')\n",
    "plt.xticks(rotation=45)\n",
    "plt.legend(title='Age Group')\n",
    "\n",
    "# Show the plot\n",
    "plt.tight_layout()\n",
    "plt.show()"
   ]
  },
  {
   "cell_type": "markdown",
   "id": "f3d63845-d1ff-47a1-bc79-41a10549e60f",
   "metadata": {},
   "source": [
    "### Which age group has the most expensive claims? "
   ]
  },
  {
   "cell_type": "code",
   "execution_count": 41,
   "id": "cca7663a-89a8-408d-b09f-7818a20252c0",
   "metadata": {},
   "outputs": [
    {
     "name": "stdout",
     "output_type": "stream",
     "text": [
      "The age group with the most expensive claims is 16-18 with total average claim payout value of 178385.43971631204.\n"
     ]
    }
   ],
   "source": [
    "# Group by 'Age Group' and sum the claim payouts\n",
    "claims_by_age_group = combined_data_df[combined_data_df[\"Claim Payout\"]>0].groupby(['Age Group']).agg({\"Claim Payout\":\"mean\"})\n",
    "\n",
    "# Identify the age group with the highest total claims\n",
    "most_expensive_claims_group = claims_by_age_group.idxmax()\n",
    "most_expensive_claims_value = claims_by_age_group.max()\n",
    "\n",
    "# Display the result\n",
    "print(f\"The age group with the most expensive claims is {most_expensive_claims_group[0]} with total average claim payout value of {most_expensive_claims_value[0]}.\")"
   ]
  }
 ],
 "metadata": {
  "kernelspec": {
   "display_name": "base",
   "language": "python",
   "name": "python3"
  },
  "language_info": {
   "codemirror_mode": {
    "name": "ipython",
    "version": 3
   },
   "file_extension": ".py",
   "mimetype": "text/x-python",
   "name": "python",
   "nbconvert_exporter": "python",
   "pygments_lexer": "ipython3",
   "version": "3.11.6"
  }
 },
 "nbformat": 4,
 "nbformat_minor": 5
}
